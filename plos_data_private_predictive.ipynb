{
 "cells": [
  {
   "cell_type": "markdown",
   "metadata": {},
   "source": [
    "# Predictive Validity Main Result demo"
   ]
  },
  {
   "cell_type": "markdown",
   "metadata": {},
   "source": [
    "This notebook reproduces the main central hypothesis: BLT's outperform questionnaire based factors on predictive social and demographic variables like IQ, Income, Likes while Questionnaire based factors outperform BLT's on psychological outcomes like SWL, CESD, Big5 Questions etc. "
   ]
  },
  {
   "cell_type": "code",
   "execution_count": 1,
   "metadata": {
    "collapsed": true
   },
   "outputs": [],
   "source": [
    "import pandas as pd\n",
    "import numpy as np"
   ]
  },
  {
   "cell_type": "code",
   "execution_count": 2,
   "metadata": {
    "collapsed": false
   },
   "outputs": [],
   "source": [
    "def print_summary_likes(filename, num_likes=100):\n",
    "    records = []\n",
    "    for i in np.arange(0, num_likes):\n",
    "        df = pd.read_csv(filename.format(i))\n",
    "        records.append((df.LV.mean(), df.LV.sem()))\n",
    "    df_record = pd.DataFrame().from_records(records, columns=['Mean', 'Std'])\n",
    "    return list((np.round(df_record.Mean.mean(),3), np.round(df_record.Std.mean(),3)))"
   ]
  },
  {
   "cell_type": "code",
   "execution_count": 3,
   "metadata": {
    "collapsed": true
   },
   "outputs": [],
   "source": [
    "def analyze_likes(filename, num_likes=100):\n",
    "    records = []\n",
    "    for i in np.arange(0, num_likes):\n",
    "        df = pd.read_csv(filename.format(i))\n",
    "        records.append((df.LV.mean(), df.LV.sem()))\n",
    "    df_record = pd.DataFrame().from_records(records, columns=['Mean', 'Std'])\n",
    "    return df_record"
   ]
  },
  {
   "cell_type": "code",
   "execution_count": 4,
   "metadata": {
    "collapsed": true
   },
   "outputs": [],
   "source": [
    "def analyze_questions(filename,qno=21):\n",
    "    records = []\n",
    "    for i in np.arange(qno, 101):\n",
    "        df = pd.read_csv(filename.format(i))\n",
    "        records.append((i, df.LV.mean(), df.LV.sem()))\n",
    "    df_record = pd.DataFrame().from_records(records, columns=['Q','Mean', 'Std'])\n",
    "    return df_record"
   ]
  },
  {
   "cell_type": "code",
   "execution_count": 5,
   "metadata": {
    "collapsed": true
   },
   "outputs": [],
   "source": [
    "def print_summary_questions(filename, qno=21):\n",
    "    records = []\n",
    "    for i in np.arange(qno, 101):\n",
    "        df = pd.read_csv(filename.format(i))\n",
    "        records.append((df.LV.mean(), df.LV.sem()))\n",
    "    df_record = pd.DataFrame().from_records(records, columns=['Mean', 'Std'])\n",
    "    return list((df_record.Mean.mean(), df_record.Std.mean()))"
   ]
  },
  {
   "cell_type": "code",
   "execution_count": 6,
   "metadata": {
    "collapsed": true
   },
   "outputs": [],
   "source": [
    "def print_summary_questions_new(filename, qno=1, num_questions=5):\n",
    "    records = []\n",
    "    for i in np.arange(qno, num_questions+1):\n",
    "        df = pd.read_csv(filename.format(i))\n",
    "        records.append((df.LV.mean(), df.LV.sem()))\n",
    "    df_record = pd.DataFrame().from_records(records, columns=['Mean', 'Std'])\n",
    "    return list((df_record.Mean.mean(), df_record.Std.mean()))"
   ]
  },
  {
   "cell_type": "code",
   "execution_count": 7,
   "metadata": {
    "collapsed": true
   },
   "outputs": [],
   "source": [
    "home_dir=\"/hlab1/vvkulkarni/psychology/plos_data_private/predictive/\""
   ]
  },
  {
   "cell_type": "code",
   "execution_count": 8,
   "metadata": {
    "collapsed": true
   },
   "outputs": [],
   "source": [
    "records=[]"
   ]
  },
  {
   "cell_type": "code",
   "execution_count": 9,
   "metadata": {
    "collapsed": true
   },
   "outputs": [],
   "source": [
    "methods=['big5atleast1000','big5_10_atleast1000', 'big5_30_atleast1000']\n",
    "big5_method_num_map={'big5atleast1000':5, 'big5_10_atleast1000':10, 'big5_30_atleast1000':30}"
   ]
  },
  {
   "cell_type": "code",
   "execution_count": 10,
   "metadata": {
    "collapsed": false
   },
   "outputs": [],
   "source": [
    "for method in methods:\n",
    "    factor=big5_method_num_map[method]\n",
    "    g = home_dir + '{}/grid_search_multiple_runs/likes_interpretable20_private/{}_superlike_interpretable_'.format(method, method) \n",
    "    filename = g + '{}_logistic.csv'\n",
    "    records.append(['{}_{}'.format(method, factor)] + print_summary_likes(filename, num_likes=20))"
   ]
  },
  {
   "cell_type": "code",
   "execution_count": 11,
   "metadata": {
    "collapsed": false
   },
   "outputs": [],
   "source": [
    "methods=['fa_not_residualized_ngrams_usa_home_current_null_standardized']\n",
    "factors = [5, 10, 30]\n",
    "for method in methods:\n",
    "    for factor in factors:\n",
    "        g = home_dir + '{}/grid_search_multiple_runs/likes_interpretable20_private/{}_{}_superlike_interpretable_'.format(method, method, factor) \n",
    "        filename = g + '{}_logistic.csv'\n",
    "        records.append(['{}_{}'.format(method, factor)] + print_summary_likes(filename, num_likes=20))"
   ]
  },
  {
   "cell_type": "code",
   "execution_count": 12,
   "metadata": {
    "collapsed": true
   },
   "outputs": [],
   "source": [
    "df = pd.DataFrame().from_records(records, columns=['Method', 'Mean', 'Std'])"
   ]
  },
  {
   "cell_type": "code",
   "execution_count": 13,
   "metadata": {
    "collapsed": false
   },
   "outputs": [
    {
     "data": {
      "text/html": [
       "<div>\n",
       "<table border=\"1\" class=\"dataframe\">\n",
       "  <thead>\n",
       "    <tr style=\"text-align: right;\">\n",
       "      <th></th>\n",
       "      <th>Method</th>\n",
       "      <th>Mean</th>\n",
       "      <th>Std</th>\n",
       "    </tr>\n",
       "  </thead>\n",
       "  <tbody>\n",
       "    <tr>\n",
       "      <th>0</th>\n",
       "      <td>big5atleast1000_5</td>\n",
       "      <td>0.525</td>\n",
       "      <td>0.001</td>\n",
       "    </tr>\n",
       "    <tr>\n",
       "      <th>1</th>\n",
       "      <td>big5_10_atleast1000_10</td>\n",
       "      <td>0.532</td>\n",
       "      <td>0.002</td>\n",
       "    </tr>\n",
       "    <tr>\n",
       "      <th>2</th>\n",
       "      <td>big5_30_atleast1000_30</td>\n",
       "      <td>0.553</td>\n",
       "      <td>0.002</td>\n",
       "    </tr>\n",
       "    <tr>\n",
       "      <th>3</th>\n",
       "      <td>fa_not_residualized_ngrams_usa_home_current_nu...</td>\n",
       "      <td>0.601</td>\n",
       "      <td>0.002</td>\n",
       "    </tr>\n",
       "    <tr>\n",
       "      <th>4</th>\n",
       "      <td>fa_not_residualized_ngrams_usa_home_current_nu...</td>\n",
       "      <td>0.634</td>\n",
       "      <td>0.002</td>\n",
       "    </tr>\n",
       "    <tr>\n",
       "      <th>5</th>\n",
       "      <td>fa_not_residualized_ngrams_usa_home_current_nu...</td>\n",
       "      <td>0.649</td>\n",
       "      <td>0.002</td>\n",
       "    </tr>\n",
       "  </tbody>\n",
       "</table>\n",
       "</div>"
      ],
      "text/plain": [
       "                                              Method   Mean    Std\n",
       "0                                  big5atleast1000_5  0.525  0.001\n",
       "1                             big5_10_atleast1000_10  0.532  0.002\n",
       "2                             big5_30_atleast1000_30  0.553  0.002\n",
       "3  fa_not_residualized_ngrams_usa_home_current_nu...  0.601  0.002\n",
       "4  fa_not_residualized_ngrams_usa_home_current_nu...  0.634  0.002\n",
       "5  fa_not_residualized_ngrams_usa_home_current_nu...  0.649  0.002"
      ]
     },
     "execution_count": 13,
     "metadata": {},
     "output_type": "execute_result"
    }
   ],
   "source": [
    "df"
   ]
  },
  {
   "cell_type": "code",
   "execution_count": 14,
   "metadata": {
    "collapsed": true
   },
   "outputs": [],
   "source": [
    "records  = []"
   ]
  },
  {
   "cell_type": "code",
   "execution_count": 15,
   "metadata": {
    "collapsed": true
   },
   "outputs": [],
   "source": [
    "methods=['big5atleast1000','big5_10_atleast1000', 'big5_30_atleast1000']\n",
    "big5_method_num_map={'big5atleast1000':5, 'big5_10_atleast1000':10, 'big5_30_atleast1000':30}"
   ]
  },
  {
   "cell_type": "code",
   "execution_count": 16,
   "metadata": {
    "collapsed": false
   },
   "outputs": [],
   "source": [
    "for method in methods:\n",
    "    factor=big5_method_num_map[method]\n",
    "    g = home_dir + '{}/grid_search_multiple_runs/questions_private/{}_big5_domains_item_level_q_'.format(method,method) \n",
    "    filename = g + '{}_Ridge.csv'\n",
    "    records.append(['{}_{}'.format(method, factor)] + print_summary_questions(filename))"
   ]
  },
  {
   "cell_type": "code",
   "execution_count": 17,
   "metadata": {
    "collapsed": false
   },
   "outputs": [],
   "source": [
    "methods=['fa_not_residualized_ngrams_usa_home_current_null_standardized']\n",
    "factors = [5, 10, 30]\n",
    "for method in methods:\n",
    "    for factor in factors:\n",
    "        g = home_dir + '{}/grid_search_multiple_runs/questions_private/{}_{}_big5_domains_item_level_q_'.format(method,method, factor) \n",
    "        filename = g + '{}_Ridge.csv'\n",
    "        records.append(['{}_{}'.format(method, factor)] + print_summary_questions(filename))"
   ]
  },
  {
   "cell_type": "code",
   "execution_count": 18,
   "metadata": {
    "collapsed": true
   },
   "outputs": [],
   "source": [
    "df = pd.DataFrame().from_records(records, columns=['Method', 'Mean', 'Std'])"
   ]
  },
  {
   "cell_type": "code",
   "execution_count": 19,
   "metadata": {
    "collapsed": false
   },
   "outputs": [
    {
     "data": {
      "text/html": [
       "<div>\n",
       "<table border=\"1\" class=\"dataframe\">\n",
       "  <thead>\n",
       "    <tr style=\"text-align: right;\">\n",
       "      <th></th>\n",
       "      <th>Method</th>\n",
       "      <th>Mean</th>\n",
       "      <th>Std</th>\n",
       "    </tr>\n",
       "  </thead>\n",
       "  <tbody>\n",
       "    <tr>\n",
       "      <th>0</th>\n",
       "      <td>big5atleast1000_5</td>\n",
       "      <td>0.179047</td>\n",
       "      <td>0.002122</td>\n",
       "    </tr>\n",
       "    <tr>\n",
       "      <th>1</th>\n",
       "      <td>big5_10_atleast1000_10</td>\n",
       "      <td>0.627048</td>\n",
       "      <td>0.003155</td>\n",
       "    </tr>\n",
       "    <tr>\n",
       "      <th>2</th>\n",
       "      <td>big5_30_atleast1000_30</td>\n",
       "      <td>0.766599</td>\n",
       "      <td>0.002199</td>\n",
       "    </tr>\n",
       "    <tr>\n",
       "      <th>3</th>\n",
       "      <td>fa_not_residualized_ngrams_usa_home_current_nu...</td>\n",
       "      <td>0.179851</td>\n",
       "      <td>0.002680</td>\n",
       "    </tr>\n",
       "    <tr>\n",
       "      <th>4</th>\n",
       "      <td>fa_not_residualized_ngrams_usa_home_current_nu...</td>\n",
       "      <td>0.192607</td>\n",
       "      <td>0.002498</td>\n",
       "    </tr>\n",
       "    <tr>\n",
       "      <th>5</th>\n",
       "      <td>fa_not_residualized_ngrams_usa_home_current_nu...</td>\n",
       "      <td>0.215548</td>\n",
       "      <td>0.002675</td>\n",
       "    </tr>\n",
       "  </tbody>\n",
       "</table>\n",
       "</div>"
      ],
      "text/plain": [
       "                                              Method      Mean       Std\n",
       "0                                  big5atleast1000_5  0.179047  0.002122\n",
       "1                             big5_10_atleast1000_10  0.627048  0.003155\n",
       "2                             big5_30_atleast1000_30  0.766599  0.002199\n",
       "3  fa_not_residualized_ngrams_usa_home_current_nu...  0.179851  0.002680\n",
       "4  fa_not_residualized_ngrams_usa_home_current_nu...  0.192607  0.002498\n",
       "5  fa_not_residualized_ngrams_usa_home_current_nu...  0.215548  0.002675"
      ]
     },
     "execution_count": 19,
     "metadata": {},
     "output_type": "execute_result"
    }
   ],
   "source": [
    "df"
   ]
  },
  {
   "cell_type": "code",
   "execution_count": 20,
   "metadata": {
    "collapsed": true
   },
   "outputs": [],
   "source": [
    "def print_target(filename):\n",
    "    import numpy as np\n",
    "    df = pd.read_csv(filename)\n",
    "    return [np.round(df.LV.mean(),3), np.round(df.LV.sem(),3)]"
   ]
  },
  {
   "cell_type": "code",
   "execution_count": 21,
   "metadata": {
    "collapsed": true
   },
   "outputs": [],
   "source": [
    "def get_df_regress_variable(variable):\n",
    "    methods=['big5atleast1000','big5_10_atleast1000', 'big5_30_atleast1000']\n",
    "    records=[]\n",
    "    for method in methods:\n",
    "        filename = home_dir + '{}/grid_search_multiple_runs/{}_{}_private_Ridge.csv'.format(method, method, variable)\n",
    "        records.append([method]+print_target(filename))\n",
    "\n",
    "    methods=[]\n",
    "    methods=methods+['fa_not_residualized_ngrams_usa_home_current_null_standardized']\n",
    "    for method in methods:\n",
    "        for num_topics in [5, 10, 30]:\n",
    "            filename = home_dir + '{}/grid_search_multiple_runs/{}_{}_{}_private_Ridge.csv'.format(method, method, num_topics, variable)\n",
    "            records.append(['{}_{}'.format(method, num_topics)] + print_target(filename))\n",
    "    odf = pd.DataFrame().from_records(records, columns=['Method', 'Mean', 'Std'])\n",
    "    return odf"
   ]
  },
  {
   "cell_type": "code",
   "execution_count": 22,
   "metadata": {
    "collapsed": false
   },
   "outputs": [
    {
     "data": {
      "text/html": [
       "<div>\n",
       "<table border=\"1\" class=\"dataframe\">\n",
       "  <thead>\n",
       "    <tr style=\"text-align: right;\">\n",
       "      <th></th>\n",
       "      <th>Method</th>\n",
       "      <th>Mean</th>\n",
       "      <th>Std</th>\n",
       "    </tr>\n",
       "  </thead>\n",
       "  <tbody>\n",
       "    <tr>\n",
       "      <th>0</th>\n",
       "      <td>big5atleast1000</td>\n",
       "      <td>0.187</td>\n",
       "      <td>0.003</td>\n",
       "    </tr>\n",
       "    <tr>\n",
       "      <th>1</th>\n",
       "      <td>big5_10_atleast1000</td>\n",
       "      <td>0.209</td>\n",
       "      <td>0.006</td>\n",
       "    </tr>\n",
       "    <tr>\n",
       "      <th>2</th>\n",
       "      <td>big5_30_atleast1000</td>\n",
       "      <td>0.238</td>\n",
       "      <td>0.005</td>\n",
       "    </tr>\n",
       "    <tr>\n",
       "      <th>3</th>\n",
       "      <td>fa_not_residualized_ngrams_usa_home_current_nu...</td>\n",
       "      <td>0.119</td>\n",
       "      <td>0.003</td>\n",
       "    </tr>\n",
       "    <tr>\n",
       "      <th>4</th>\n",
       "      <td>fa_not_residualized_ngrams_usa_home_current_nu...</td>\n",
       "      <td>0.180</td>\n",
       "      <td>0.004</td>\n",
       "    </tr>\n",
       "    <tr>\n",
       "      <th>5</th>\n",
       "      <td>fa_not_residualized_ngrams_usa_home_current_nu...</td>\n",
       "      <td>0.322</td>\n",
       "      <td>0.003</td>\n",
       "    </tr>\n",
       "  </tbody>\n",
       "</table>\n",
       "</div>"
      ],
      "text/plain": [
       "                                              Method   Mean    Std\n",
       "0                                    big5atleast1000  0.187  0.003\n",
       "1                                big5_10_atleast1000  0.209  0.006\n",
       "2                                big5_30_atleast1000  0.238  0.005\n",
       "3  fa_not_residualized_ngrams_usa_home_current_nu...  0.119  0.003\n",
       "4  fa_not_residualized_ngrams_usa_home_current_nu...  0.180  0.004\n",
       "5  fa_not_residualized_ngrams_usa_home_current_nu...  0.322  0.003"
      ]
     },
     "execution_count": 22,
     "metadata": {},
     "output_type": "execute_result"
    }
   ],
   "source": [
    "get_df_regress_variable('network')"
   ]
  },
  {
   "cell_type": "code",
   "execution_count": 23,
   "metadata": {
    "collapsed": false
   },
   "outputs": [
    {
     "data": {
      "text/html": [
       "<div>\n",
       "<table border=\"1\" class=\"dataframe\">\n",
       "  <thead>\n",
       "    <tr style=\"text-align: right;\">\n",
       "      <th></th>\n",
       "      <th>Method</th>\n",
       "      <th>Mean</th>\n",
       "      <th>Std</th>\n",
       "    </tr>\n",
       "  </thead>\n",
       "  <tbody>\n",
       "    <tr>\n",
       "      <th>0</th>\n",
       "      <td>big5atleast1000</td>\n",
       "      <td>0.507</td>\n",
       "      <td>0.012</td>\n",
       "    </tr>\n",
       "    <tr>\n",
       "      <th>1</th>\n",
       "      <td>big5_10_atleast1000</td>\n",
       "      <td>0.460</td>\n",
       "      <td>0.013</td>\n",
       "    </tr>\n",
       "    <tr>\n",
       "      <th>2</th>\n",
       "      <td>big5_30_atleast1000</td>\n",
       "      <td>0.571</td>\n",
       "      <td>0.012</td>\n",
       "    </tr>\n",
       "    <tr>\n",
       "      <th>3</th>\n",
       "      <td>fa_not_residualized_ngrams_usa_home_current_nu...</td>\n",
       "      <td>0.143</td>\n",
       "      <td>0.014</td>\n",
       "    </tr>\n",
       "    <tr>\n",
       "      <th>4</th>\n",
       "      <td>fa_not_residualized_ngrams_usa_home_current_nu...</td>\n",
       "      <td>0.227</td>\n",
       "      <td>0.016</td>\n",
       "    </tr>\n",
       "    <tr>\n",
       "      <th>5</th>\n",
       "      <td>fa_not_residualized_ngrams_usa_home_current_nu...</td>\n",
       "      <td>0.255</td>\n",
       "      <td>0.010</td>\n",
       "    </tr>\n",
       "  </tbody>\n",
       "</table>\n",
       "</div>"
      ],
      "text/plain": [
       "                                              Method   Mean    Std\n",
       "0                                    big5atleast1000  0.507  0.012\n",
       "1                                big5_10_atleast1000  0.460  0.013\n",
       "2                                big5_30_atleast1000  0.571  0.012\n",
       "3  fa_not_residualized_ngrams_usa_home_current_nu...  0.143  0.014\n",
       "4  fa_not_residualized_ngrams_usa_home_current_nu...  0.227  0.016\n",
       "5  fa_not_residualized_ngrams_usa_home_current_nu...  0.255  0.010"
      ]
     },
     "execution_count": 23,
     "metadata": {},
     "output_type": "execute_result"
    }
   ],
   "source": [
    "get_df_regress_variable('SWL')"
   ]
  },
  {
   "cell_type": "code",
   "execution_count": 24,
   "metadata": {
    "collapsed": false
   },
   "outputs": [
    {
     "data": {
      "text/html": [
       "<div>\n",
       "<table border=\"1\" class=\"dataframe\">\n",
       "  <thead>\n",
       "    <tr style=\"text-align: right;\">\n",
       "      <th></th>\n",
       "      <th>Method</th>\n",
       "      <th>Mean</th>\n",
       "      <th>Std</th>\n",
       "    </tr>\n",
       "  </thead>\n",
       "  <tbody>\n",
       "    <tr>\n",
       "      <th>0</th>\n",
       "      <td>big5atleast1000</td>\n",
       "      <td>0.233</td>\n",
       "      <td>0.013</td>\n",
       "    </tr>\n",
       "    <tr>\n",
       "      <th>1</th>\n",
       "      <td>big5_10_atleast1000</td>\n",
       "      <td>0.206</td>\n",
       "      <td>0.020</td>\n",
       "    </tr>\n",
       "    <tr>\n",
       "      <th>2</th>\n",
       "      <td>big5_30_atleast1000</td>\n",
       "      <td>0.264</td>\n",
       "      <td>0.016</td>\n",
       "    </tr>\n",
       "    <tr>\n",
       "      <th>3</th>\n",
       "      <td>fa_not_residualized_ngrams_usa_home_current_nu...</td>\n",
       "      <td>0.371</td>\n",
       "      <td>0.019</td>\n",
       "    </tr>\n",
       "    <tr>\n",
       "      <th>4</th>\n",
       "      <td>fa_not_residualized_ngrams_usa_home_current_nu...</td>\n",
       "      <td>0.356</td>\n",
       "      <td>0.018</td>\n",
       "    </tr>\n",
       "    <tr>\n",
       "      <th>5</th>\n",
       "      <td>fa_not_residualized_ngrams_usa_home_current_nu...</td>\n",
       "      <td>0.442</td>\n",
       "      <td>0.013</td>\n",
       "    </tr>\n",
       "  </tbody>\n",
       "</table>\n",
       "</div>"
      ],
      "text/plain": [
       "                                              Method   Mean    Std\n",
       "0                                    big5atleast1000  0.233  0.013\n",
       "1                                big5_10_atleast1000  0.206  0.020\n",
       "2                                big5_30_atleast1000  0.264  0.016\n",
       "3  fa_not_residualized_ngrams_usa_home_current_nu...  0.371  0.019\n",
       "4  fa_not_residualized_ngrams_usa_home_current_nu...  0.356  0.018\n",
       "5  fa_not_residualized_ngrams_usa_home_current_nu...  0.442  0.013"
      ]
     },
     "execution_count": 24,
     "metadata": {},
     "output_type": "execute_result"
    }
   ],
   "source": [
    "get_df_regress_variable('iq')"
   ]
  },
  {
   "cell_type": "code",
   "execution_count": 25,
   "metadata": {
    "collapsed": false,
    "scrolled": true
   },
   "outputs": [
    {
     "data": {
      "text/html": [
       "<div>\n",
       "<table border=\"1\" class=\"dataframe\">\n",
       "  <thead>\n",
       "    <tr style=\"text-align: right;\">\n",
       "      <th></th>\n",
       "      <th>Method</th>\n",
       "      <th>Mean</th>\n",
       "      <th>Std</th>\n",
       "    </tr>\n",
       "  </thead>\n",
       "  <tbody>\n",
       "    <tr>\n",
       "      <th>0</th>\n",
       "      <td>big5atleast1000</td>\n",
       "      <td>0.462</td>\n",
       "      <td>0.020</td>\n",
       "    </tr>\n",
       "    <tr>\n",
       "      <th>1</th>\n",
       "      <td>big5_10_atleast1000</td>\n",
       "      <td>0.272</td>\n",
       "      <td>0.020</td>\n",
       "    </tr>\n",
       "    <tr>\n",
       "      <th>2</th>\n",
       "      <td>big5_30_atleast1000</td>\n",
       "      <td>0.457</td>\n",
       "      <td>0.029</td>\n",
       "    </tr>\n",
       "    <tr>\n",
       "      <th>3</th>\n",
       "      <td>fa_not_residualized_ngrams_usa_home_current_nu...</td>\n",
       "      <td>0.227</td>\n",
       "      <td>0.020</td>\n",
       "    </tr>\n",
       "    <tr>\n",
       "      <th>4</th>\n",
       "      <td>fa_not_residualized_ngrams_usa_home_current_nu...</td>\n",
       "      <td>0.136</td>\n",
       "      <td>0.025</td>\n",
       "    </tr>\n",
       "    <tr>\n",
       "      <th>5</th>\n",
       "      <td>fa_not_residualized_ngrams_usa_home_current_nu...</td>\n",
       "      <td>0.245</td>\n",
       "      <td>0.016</td>\n",
       "    </tr>\n",
       "  </tbody>\n",
       "</table>\n",
       "</div>"
      ],
      "text/plain": [
       "                                              Method   Mean    Std\n",
       "0                                    big5atleast1000  0.462  0.020\n",
       "1                                big5_10_atleast1000  0.272  0.020\n",
       "2                                big5_30_atleast1000  0.457  0.029\n",
       "3  fa_not_residualized_ngrams_usa_home_current_nu...  0.227  0.020\n",
       "4  fa_not_residualized_ngrams_usa_home_current_nu...  0.136  0.025\n",
       "5  fa_not_residualized_ngrams_usa_home_current_nu...  0.245  0.016"
      ]
     },
     "execution_count": 25,
     "metadata": {},
     "output_type": "execute_result"
    }
   ],
   "source": [
    "get_df_regress_variable('cesd')"
   ]
  },
  {
   "cell_type": "code",
   "execution_count": 26,
   "metadata": {
    "collapsed": true
   },
   "outputs": [],
   "source": [
    "def get_df_income_variable_better(variable, add_age_gender=True):\n",
    "    methods = ['sandra_big5atleast1000', 'sandra_big5_10_atleast1000']\n",
    "    records=[]\n",
    "    for method in methods:\n",
    "        filename = home_dir + '{}/grid_search_multiple_runs/{}_{}_private_Ridge.csv'.format(method, method, variable)\n",
    "        records.append([method]+print_target(filename))\n",
    "\n",
    "    \n",
    "    methods=['sandra_fa_not_residualized_ngrams_usa_home_current_null_standardized'] \n",
    "    for method in methods:\n",
    "        for num_topics in [5, 10]:\n",
    "            filename = home_dir + '{}/grid_search_multiple_runs/{}_{}_{}_private_Ridge.csv'.format(method, method, num_topics, variable)\n",
    "            records.append(['{}_{}'.format(method, num_topics)] + print_target(filename))\n",
    "    odf = pd.DataFrame().from_records(records, columns=['Method', 'Mean', 'Std'])\n",
    "    return odf"
   ]
  },
  {
   "cell_type": "code",
   "execution_count": 27,
   "metadata": {
    "collapsed": false
   },
   "outputs": [
    {
     "data": {
      "text/html": [
       "<div>\n",
       "<table border=\"1\" class=\"dataframe\">\n",
       "  <thead>\n",
       "    <tr style=\"text-align: right;\">\n",
       "      <th></th>\n",
       "      <th>Method</th>\n",
       "      <th>Mean</th>\n",
       "      <th>Std</th>\n",
       "    </tr>\n",
       "  </thead>\n",
       "  <tbody>\n",
       "    <tr>\n",
       "      <th>0</th>\n",
       "      <td>sandra_big5atleast1000</td>\n",
       "      <td>0.141</td>\n",
       "      <td>0.042</td>\n",
       "    </tr>\n",
       "    <tr>\n",
       "      <th>1</th>\n",
       "      <td>sandra_big5_10_atleast1000</td>\n",
       "      <td>0.061</td>\n",
       "      <td>0.050</td>\n",
       "    </tr>\n",
       "    <tr>\n",
       "      <th>2</th>\n",
       "      <td>sandra_fa_not_residualized_ngrams_usa_home_cur...</td>\n",
       "      <td>0.363</td>\n",
       "      <td>0.010</td>\n",
       "    </tr>\n",
       "    <tr>\n",
       "      <th>3</th>\n",
       "      <td>sandra_fa_not_residualized_ngrams_usa_home_cur...</td>\n",
       "      <td>0.352</td>\n",
       "      <td>0.010</td>\n",
       "    </tr>\n",
       "  </tbody>\n",
       "</table>\n",
       "</div>"
      ],
      "text/plain": [
       "                                              Method   Mean    Std\n",
       "0                             sandra_big5atleast1000  0.141  0.042\n",
       "1                         sandra_big5_10_atleast1000  0.061  0.050\n",
       "2  sandra_fa_not_residualized_ngrams_usa_home_cur...  0.363  0.010\n",
       "3  sandra_fa_not_residualized_ngrams_usa_home_cur...  0.352  0.010"
      ]
     },
     "execution_count": 27,
     "metadata": {},
     "output_type": "execute_result"
    }
   ],
   "source": [
    "get_df_income_variable_better('li_p1_gt1k', False)"
   ]
  },
  {
   "cell_type": "code",
   "execution_count": null,
   "metadata": {
    "collapsed": true
   },
   "outputs": [],
   "source": []
  },
  {
   "cell_type": "code",
   "execution_count": null,
   "metadata": {
    "collapsed": true
   },
   "outputs": [],
   "source": []
  }
 ],
 "metadata": {
  "kernelspec": {
   "display_name": "Python 2",
   "language": "python",
   "name": "python2"
  },
  "language_info": {
   "codemirror_mode": {
    "name": "ipython",
    "version": 2
   },
   "file_extension": ".py",
   "mimetype": "text/x-python",
   "name": "python",
   "nbconvert_exporter": "python",
   "pygments_lexer": "ipython2",
   "version": "2.7.6"
  },
  "widgets": {
   "state": {},
   "version": "1.1.2"
  }
 },
 "nbformat": 4,
 "nbformat_minor": 0
}
